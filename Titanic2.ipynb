{
    "nbformat": 4, 
    "metadata": {
        "language_info": {
            "pygments_lexer": "ipython2", 
            "codemirror_mode": {
                "name": "ipython", 
                "version": 2
            }, 
            "file_extension": ".py", 
            "version": "2.7.11", 
            "mimetype": "text/x-python", 
            "name": "python", 
            "nbconvert_exporter": "python"
        }, 
        "kernelspec": {
            "name": "python2", 
            "language": "python", 
            "display_name": "Python 2 with Spark 1.6"
        }
    }, 
    "cells": [
        {
            "source": "# Titanic Machine Learning", 
            "metadata": {
                "collapsed": true
            }, 
            "cell_type": "markdown"
        }, 
        {
            "source": "### 2nd version with more accurate feature engineering\n[Source](https://www.kaggle.com/c/titanic)", 
            "metadata": {}, 
            "cell_type": "markdown"
        }, 
        {
            "source": "In my first version, I used index_col = 0 when using read_csv which made PassengerId into the index column, which is something I should have avoided doing", 
            "metadata": {}, 
            "cell_type": "markdown"
        }, 
        {
            "outputs": [
                {
                    "output_type": "execute_result", 
                    "execution_count": 387, 
                    "data": {
                        "text/plain": "   PassengerId  Survived  Pclass  \\\n0            1         0       3   \n1            2         1       1   \n2            3         1       3   \n3            4         1       1   \n4            5         0       3   \n\n                                                Name     Sex  Age  SibSp  \\\n0                            Braund, Mr. Owen Harris    male   22      1   \n1  Cumings, Mrs. John Bradley (Florence Briggs Th...  female   38      1   \n2                             Heikkinen, Miss. Laina  female   26      0   \n3       Futrelle, Mrs. Jacques Heath (Lily May Peel)  female   35      1   \n4                           Allen, Mr. William Henry    male   35      0   \n\n   Parch            Ticket     Fare Cabin Embarked  \n0      0         A/5 21171   7.2500   NaN        S  \n1      0          PC 17599  71.2833   C85        C  \n2      0  STON/O2. 3101282   7.9250   NaN        S  \n3      0            113803  53.1000  C123        S  \n4      0            373450   8.0500   NaN        S  ", 
                        "text/html": "<div>\n<table border=\"1\" class=\"dataframe\">\n  <thead>\n    <tr style=\"text-align: right;\">\n      <th></th>\n      <th>PassengerId</th>\n      <th>Survived</th>\n      <th>Pclass</th>\n      <th>Name</th>\n      <th>Sex</th>\n      <th>Age</th>\n      <th>SibSp</th>\n      <th>Parch</th>\n      <th>Ticket</th>\n      <th>Fare</th>\n      <th>Cabin</th>\n      <th>Embarked</th>\n    </tr>\n  </thead>\n  <tbody>\n    <tr>\n      <th>0</th>\n      <td>1</td>\n      <td>0</td>\n      <td>3</td>\n      <td>Braund, Mr. Owen Harris</td>\n      <td>male</td>\n      <td>22</td>\n      <td>1</td>\n      <td>0</td>\n      <td>A/5 21171</td>\n      <td>7.2500</td>\n      <td>NaN</td>\n      <td>S</td>\n    </tr>\n    <tr>\n      <th>1</th>\n      <td>2</td>\n      <td>1</td>\n      <td>1</td>\n      <td>Cumings, Mrs. John Bradley (Florence Briggs Th...</td>\n      <td>female</td>\n      <td>38</td>\n      <td>1</td>\n      <td>0</td>\n      <td>PC 17599</td>\n      <td>71.2833</td>\n      <td>C85</td>\n      <td>C</td>\n    </tr>\n    <tr>\n      <th>2</th>\n      <td>3</td>\n      <td>1</td>\n      <td>3</td>\n      <td>Heikkinen, Miss. Laina</td>\n      <td>female</td>\n      <td>26</td>\n      <td>0</td>\n      <td>0</td>\n      <td>STON/O2. 3101282</td>\n      <td>7.9250</td>\n      <td>NaN</td>\n      <td>S</td>\n    </tr>\n    <tr>\n      <th>3</th>\n      <td>4</td>\n      <td>1</td>\n      <td>1</td>\n      <td>Futrelle, Mrs. Jacques Heath (Lily May Peel)</td>\n      <td>female</td>\n      <td>35</td>\n      <td>1</td>\n      <td>0</td>\n      <td>113803</td>\n      <td>53.1000</td>\n      <td>C123</td>\n      <td>S</td>\n    </tr>\n    <tr>\n      <th>4</th>\n      <td>5</td>\n      <td>0</td>\n      <td>3</td>\n      <td>Allen, Mr. William Henry</td>\n      <td>male</td>\n      <td>35</td>\n      <td>0</td>\n      <td>0</td>\n      <td>373450</td>\n      <td>8.0500</td>\n      <td>NaN</td>\n      <td>S</td>\n    </tr>\n  </tbody>\n</table>\n</div>"
                    }, 
                    "metadata": {}
                }
            ], 
            "source": "# The code was removed by DSX for sharing.", 
            "execution_count": 387, 
            "cell_type": "code", 
            "metadata": {
                "collapsed": false
            }
        }, 
        {
            "outputs": [], 
            "source": "# Machine Learning Algorithms\nfrom sklearn.tree import DecisionTreeClassifier\nfrom sklearn.linear_model import LogisticRegression\nfrom sklearn.linear_model import LinearRegression\nfrom sklearn.neighbors import KNeighborsClassifier\nfrom sklearn.naive_bayes import GaussianNB\nfrom sklearn.svm import SVC, LinearSVC\nfrom sklearn.ensemble import RandomForestClassifier, GradientBoostingClassifier\nfrom sklearn import metrics\n\nfrom sklearn.preprocessing import Imputer, Normalizer, scale\nfrom sklearn.cross_validation import train_test_split, StratifiedKFold\nfrom sklearn.feature_selection import RFECV", 
            "execution_count": 388, 
            "cell_type": "code", 
            "metadata": {
                "collapsed": false
            }
        }, 
        {
            "outputs": [
                {
                    "output_type": "execute_result", 
                    "execution_count": 389, 
                    "data": {
                        "text/plain": "   PassengerId  Pclass                                          Name     Sex  \\\n0          892       3                              Kelly, Mr. James    male   \n1          893       3              Wilkes, Mrs. James (Ellen Needs)  female   \n2          894       2                     Myles, Mr. Thomas Francis    male   \n3          895       3                              Wirz, Mr. Albert    male   \n4          896       3  Hirvonen, Mrs. Alexander (Helga E Lindqvist)  female   \n\n    Age  SibSp  Parch   Ticket     Fare Cabin Embarked  \n0  34.5      0      0   330911   7.8292   NaN        Q  \n1  47.0      1      0   363272   7.0000   NaN        S  \n2  62.0      0      0   240276   9.6875   NaN        Q  \n3  27.0      0      0   315154   8.6625   NaN        S  \n4  22.0      1      1  3101298  12.2875   NaN        S  ", 
                        "text/html": "<div>\n<table border=\"1\" class=\"dataframe\">\n  <thead>\n    <tr style=\"text-align: right;\">\n      <th></th>\n      <th>PassengerId</th>\n      <th>Pclass</th>\n      <th>Name</th>\n      <th>Sex</th>\n      <th>Age</th>\n      <th>SibSp</th>\n      <th>Parch</th>\n      <th>Ticket</th>\n      <th>Fare</th>\n      <th>Cabin</th>\n      <th>Embarked</th>\n    </tr>\n  </thead>\n  <tbody>\n    <tr>\n      <th>0</th>\n      <td>892</td>\n      <td>3</td>\n      <td>Kelly, Mr. James</td>\n      <td>male</td>\n      <td>34.5</td>\n      <td>0</td>\n      <td>0</td>\n      <td>330911</td>\n      <td>7.8292</td>\n      <td>NaN</td>\n      <td>Q</td>\n    </tr>\n    <tr>\n      <th>1</th>\n      <td>893</td>\n      <td>3</td>\n      <td>Wilkes, Mrs. James (Ellen Needs)</td>\n      <td>female</td>\n      <td>47.0</td>\n      <td>1</td>\n      <td>0</td>\n      <td>363272</td>\n      <td>7.0000</td>\n      <td>NaN</td>\n      <td>S</td>\n    </tr>\n    <tr>\n      <th>2</th>\n      <td>894</td>\n      <td>2</td>\n      <td>Myles, Mr. Thomas Francis</td>\n      <td>male</td>\n      <td>62.0</td>\n      <td>0</td>\n      <td>0</td>\n      <td>240276</td>\n      <td>9.6875</td>\n      <td>NaN</td>\n      <td>Q</td>\n    </tr>\n    <tr>\n      <th>3</th>\n      <td>895</td>\n      <td>3</td>\n      <td>Wirz, Mr. Albert</td>\n      <td>male</td>\n      <td>27.0</td>\n      <td>0</td>\n      <td>0</td>\n      <td>315154</td>\n      <td>8.6625</td>\n      <td>NaN</td>\n      <td>S</td>\n    </tr>\n    <tr>\n      <th>4</th>\n      <td>896</td>\n      <td>3</td>\n      <td>Hirvonen, Mrs. Alexander (Helga E Lindqvist)</td>\n      <td>female</td>\n      <td>22.0</td>\n      <td>1</td>\n      <td>1</td>\n      <td>3101298</td>\n      <td>12.2875</td>\n      <td>NaN</td>\n      <td>S</td>\n    </tr>\n  </tbody>\n</table>\n</div>"
                    }, 
                    "metadata": {}
                }
            ], 
            "source": "df_test = pd.read_csv(get_object_storage_file_with_credentials_cb005406ee1149a2b0dc70050eb302d1('DefaultProjectminholeecaibmcom', 'titanic_test.csv'),\n                      header=0, dtype={'Age': np.float64})\ndf_test.head()", 
            "execution_count": 389, 
            "cell_type": "code", 
            "metadata": {
                "collapsed": false
            }
        }, 
        {
            "outputs": [], 
            "source": "#Combining both training and test dataset\nfull_data = [df_data , df_test]", 
            "execution_count": 390, 
            "cell_type": "code", 
            "metadata": {
                "collapsed": false
            }
        }, 
        {
            "outputs": [], 
            "source": "import seaborn as sns\n\nimport matplotlib as mpl\nimport matplotlib.pyplot as plt\n\n#Allow chained assignment\npd.options.mode.chained_assignment = None\n\n#Configure\n%matplotlib inline\nmpl.style.use( 'ggplot' )\nsns.set_style( 'white' )\nplt.rcParams[ 'figure.figsize' ] = 8 , 6", 
            "execution_count": 391, 
            "cell_type": "code", 
            "metadata": {
                "collapsed": true
            }
        }, 
        {
            "outputs": [
                {
                    "text": "<class 'pandas.core.frame.DataFrame'>\nInt64Index: 891 entries, 0 to 890\nData columns (total 12 columns):\nPassengerId    891 non-null int64\nSurvived       891 non-null int64\nPclass         891 non-null int64\nName           891 non-null object\nSex            891 non-null object\nAge            714 non-null float64\nSibSp          891 non-null int64\nParch          891 non-null int64\nTicket         891 non-null object\nFare           891 non-null float64\nCabin          204 non-null object\nEmbarked       889 non-null object\ndtypes: float64(2), int64(5), object(5)\nmemory usage: 90.5+ KB\nNone\n", 
                    "output_type": "stream", 
                    "name": "stdout"
                }
            ], 
            "source": "print df_data.info()", 
            "execution_count": 392, 
            "cell_type": "code", 
            "metadata": {
                "collapsed": false
            }
        }, 
        {
            "outputs": [
                {
                    "output_type": "execute_result", 
                    "execution_count": 393, 
                    "data": {
                        "text/plain": "   Pclass  Survived\n0       1  0.629630\n1       2  0.472826\n2       3  0.242363", 
                        "text/html": "<div>\n<table border=\"1\" class=\"dataframe\">\n  <thead>\n    <tr style=\"text-align: right;\">\n      <th></th>\n      <th>Pclass</th>\n      <th>Survived</th>\n    </tr>\n  </thead>\n  <tbody>\n    <tr>\n      <th>0</th>\n      <td>1</td>\n      <td>0.629630</td>\n    </tr>\n    <tr>\n      <th>1</th>\n      <td>2</td>\n      <td>0.472826</td>\n    </tr>\n    <tr>\n      <th>2</th>\n      <td>3</td>\n      <td>0.242363</td>\n    </tr>\n  </tbody>\n</table>\n</div>"
                    }, 
                    "metadata": {}
                }
            ], 
            "source": "#Make sure to double square bracket if passing more than one feature\ndf_data[['Pclass', 'Survived']].groupby(['Pclass'], as_index=False).mean()", 
            "execution_count": 393, 
            "cell_type": "code", 
            "metadata": {
                "collapsed": false
            }
        }, 
        {
            "outputs": [
                {
                    "output_type": "execute_result", 
                    "execution_count": 394, 
                    "data": {
                        "text/plain": "      Sex  Survived\n0  female  0.742038\n1    male  0.188908", 
                        "text/html": "<div>\n<table border=\"1\" class=\"dataframe\">\n  <thead>\n    <tr style=\"text-align: right;\">\n      <th></th>\n      <th>Sex</th>\n      <th>Survived</th>\n    </tr>\n  </thead>\n  <tbody>\n    <tr>\n      <th>0</th>\n      <td>female</td>\n      <td>0.742038</td>\n    </tr>\n    <tr>\n      <th>1</th>\n      <td>male</td>\n      <td>0.188908</td>\n    </tr>\n  </tbody>\n</table>\n</div>"
                    }, 
                    "metadata": {}
                }
            ], 
            "source": "df_data[['Sex', 'Survived']].groupby(['Sex'], as_index=False).mean()", 
            "execution_count": 394, 
            "cell_type": "code", 
            "metadata": {
                "collapsed": false
            }
        }, 
        {
            "outputs": [
                {
                    "text": "   FamSize  Survived\n0        1  0.303538\n1        2  0.552795\n2        3  0.578431\n3        4  0.724138\n4        5  0.200000\n5        6  0.136364\n6        7  0.333333\n7        8  0.000000\n8       11  0.000000\n", 
                    "output_type": "stream", 
                    "name": "stdout"
                }
            ], 
            "source": "#Checking out if there is a correlation between family size and survival rate\nfor data in full_data:\n    data['FamSize'] = data['SibSp'] + data['Parch'] + 1\nprint df_data[['FamSize','Survived']].groupby(['FamSize'], as_index=False).mean()", 
            "execution_count": 395, 
            "cell_type": "code", 
            "metadata": {
                "collapsed": false
            }
        }, 
        {
            "outputs": [
                {
                    "text": "   FamSize<=4  Survived\n0           0  0.161290\n1           1  0.400483\n", 
                    "output_type": "stream", 
                    "name": "stdout"
                }
            ], 
            "source": "for data in full_data:\n    data['FamSize<=4'] = (data['FamSize'] <= 4).astype(int)\n\nprint df_data[['FamSize<=4' , 'Survived']].groupby(['FamSize<=4'], as_index=False).mean()", 
            "execution_count": 396, 
            "cell_type": "code", 
            "metadata": {
                "collapsed": false
            }
        }, 
        {
            "outputs": [
                {
                    "output_type": "execute_result", 
                    "execution_count": 397, 
                    "data": {
                        "text/plain": "   PassengerId  Survived  Pclass  \\\n0            1         0       3   \n1            2         1       1   \n2            3         1       3   \n3            4         1       1   \n4            5         0       3   \n\n                                                Name     Sex  Age  SibSp  \\\n0                            Braund, Mr. Owen Harris    male   22      1   \n1  Cumings, Mrs. John Bradley (Florence Briggs Th...  female   38      1   \n2                             Heikkinen, Miss. Laina  female   26      0   \n3       Futrelle, Mrs. Jacques Heath (Lily May Peel)  female   35      1   \n4                           Allen, Mr. William Henry    male   35      0   \n\n   Parch            Ticket     Fare Cabin Embarked  FamSize  FamSize<=4  Alone  \n0      0         A/5 21171   7.2500   NaN        S        2           1      0  \n1      0          PC 17599  71.2833   C85        C        2           1      0  \n2      0  STON/O2. 3101282   7.9250   NaN        S        1           1      1  \n3      0            113803  53.1000  C123        S        2           1      0  \n4      0            373450   8.0500   NaN        S        1           1      1  ", 
                        "text/html": "<div>\n<table border=\"1\" class=\"dataframe\">\n  <thead>\n    <tr style=\"text-align: right;\">\n      <th></th>\n      <th>PassengerId</th>\n      <th>Survived</th>\n      <th>Pclass</th>\n      <th>Name</th>\n      <th>Sex</th>\n      <th>Age</th>\n      <th>SibSp</th>\n      <th>Parch</th>\n      <th>Ticket</th>\n      <th>Fare</th>\n      <th>Cabin</th>\n      <th>Embarked</th>\n      <th>FamSize</th>\n      <th>FamSize&lt;=4</th>\n      <th>Alone</th>\n    </tr>\n  </thead>\n  <tbody>\n    <tr>\n      <th>0</th>\n      <td>1</td>\n      <td>0</td>\n      <td>3</td>\n      <td>Braund, Mr. Owen Harris</td>\n      <td>male</td>\n      <td>22</td>\n      <td>1</td>\n      <td>0</td>\n      <td>A/5 21171</td>\n      <td>7.2500</td>\n      <td>NaN</td>\n      <td>S</td>\n      <td>2</td>\n      <td>1</td>\n      <td>0</td>\n    </tr>\n    <tr>\n      <th>1</th>\n      <td>2</td>\n      <td>1</td>\n      <td>1</td>\n      <td>Cumings, Mrs. John Bradley (Florence Briggs Th...</td>\n      <td>female</td>\n      <td>38</td>\n      <td>1</td>\n      <td>0</td>\n      <td>PC 17599</td>\n      <td>71.2833</td>\n      <td>C85</td>\n      <td>C</td>\n      <td>2</td>\n      <td>1</td>\n      <td>0</td>\n    </tr>\n    <tr>\n      <th>2</th>\n      <td>3</td>\n      <td>1</td>\n      <td>3</td>\n      <td>Heikkinen, Miss. Laina</td>\n      <td>female</td>\n      <td>26</td>\n      <td>0</td>\n      <td>0</td>\n      <td>STON/O2. 3101282</td>\n      <td>7.9250</td>\n      <td>NaN</td>\n      <td>S</td>\n      <td>1</td>\n      <td>1</td>\n      <td>1</td>\n    </tr>\n    <tr>\n      <th>3</th>\n      <td>4</td>\n      <td>1</td>\n      <td>1</td>\n      <td>Futrelle, Mrs. Jacques Heath (Lily May Peel)</td>\n      <td>female</td>\n      <td>35</td>\n      <td>1</td>\n      <td>0</td>\n      <td>113803</td>\n      <td>53.1000</td>\n      <td>C123</td>\n      <td>S</td>\n      <td>2</td>\n      <td>1</td>\n      <td>0</td>\n    </tr>\n    <tr>\n      <th>4</th>\n      <td>5</td>\n      <td>0</td>\n      <td>3</td>\n      <td>Allen, Mr. William Henry</td>\n      <td>male</td>\n      <td>35</td>\n      <td>0</td>\n      <td>0</td>\n      <td>373450</td>\n      <td>8.0500</td>\n      <td>NaN</td>\n      <td>S</td>\n      <td>1</td>\n      <td>1</td>\n      <td>1</td>\n    </tr>\n  </tbody>\n</table>\n</div>"
                    }, 
                    "metadata": {}
                }
            ], 
            "source": "for i in range(2):\n    full_data[i]['Alone'] = (full_data[i]['FamSize']==1).astype(int)\n\ndf_data['Alone'] = (df_data['FamSize']==1).astype(int)\n\ndf_data.head()\n#df_test.head()", 
            "execution_count": 397, 
            "cell_type": "code", 
            "metadata": {
                "collapsed": false
            }
        }, 
        {
            "outputs": [
                {
                    "text": "   Alone  Survived\n0      0  0.505650\n1      1  0.303538\n", 
                    "output_type": "stream", 
                    "name": "stdout"
                }
            ], 
            "source": "print df_data[['Alone', 'Survived']].groupby(['Alone'], as_index=False).mean()", 
            "execution_count": 398, 
            "cell_type": "code", 
            "metadata": {
                "collapsed": false
            }
        }, 
        {
            "outputs": [
                {
                    "text": "S    644\nC    168\nQ     77\nName: Embarked, dtype: int64\n2\n", 
                    "output_type": "stream", 
                    "name": "stdout"
                }
            ], 
            "source": "print df_data['Embarked'].value_counts()\nprint df_data['Embarked'].isnull().sum()\n#Since there are only 2 null cells, we will fill it in with the majority which is 'S' for Southampton\ndf_data['Embarked'].fillna('S', inplace=True)", 
            "execution_count": 399, 
            "cell_type": "code", 
            "metadata": {
                "collapsed": false
            }
        }, 
        {
            "outputs": [
                {
                    "text": "  Embarked  Survived\n0        C  0.553571\n1        Q  0.389610\n2        S  0.339009\n", 
                    "output_type": "stream", 
                    "name": "stdout"
                }
            ], 
            "source": "print df_data[['Embarked', 'Survived']].groupby(['Embarked'], as_index=False).mean()", 
            "execution_count": 400, 
            "cell_type": "code", 
            "metadata": {
                "collapsed": false
            }
        }, 
        {
            "outputs": [
                {
                    "text": "        CategoryFare  Survived\n0         [0, 7.854]  0.217877\n1      (7.854, 10.5]  0.201087\n2     (10.5, 21.679]  0.424419\n3   (21.679, 39.688]  0.444444\n4  (39.688, 512.329]  0.642045\n", 
                    "output_type": "stream", 
                    "name": "stdout"
                }
            ], 
            "source": "#We will use median for Fare, because mean is misleading due to extremely high cost tickets\ndf_data['Fare'].fillna(df_data['Fare'].median(), inplace=True)\ndf_data['CategoryFare'] = pd.qcut(df_data['Fare'], 5)\nprint (df_data[['CategoryFare', 'Survived']].groupby(['CategoryFare'], as_index=False).mean())\n\ndf_test['Fare'].fillna(df_test['Fare'].median(), inplace=True)", 
            "execution_count": 401, 
            "cell_type": "code", 
            "metadata": {
                "collapsed": false
            }
        }, 
        {
            "outputs": [
                {
                    "text": "   sample  Survived\n0       0  0.382609\n1       1  0.384266\n", 
                    "output_type": "stream", 
                    "name": "stdout"
                }
            ], 
            "source": "df_copy = df_data.copy()\nlist_copy = [df_copy]\ndef is_float(number):\n    try:\n        float(number)\n        return 1\n    except ValueError:\n        return 0\n\nfor data in list_copy:\n    data['sample'] = data['Ticket'].apply(is_float)\n    \nprint df_copy[['sample', 'Survived']].groupby(['sample'], as_index=False).mean()\n\n", 
            "execution_count": 402, 
            "cell_type": "code", 
            "metadata": {
                "collapsed": false
            }
        }, 
        {
            "outputs": [
                {
                    "output_type": "execute_result", 
                    "execution_count": 403, 
                    "data": {
                        "text/plain": "   TicketCategory  Survived\n0               X  0.384266\n1               a  0.071429\n2              as  0.000000\n3               c  0.400000\n4              ca  0.341463\n5         casoton  0.000000\n6              fa  0.000000\n7              fc  0.000000\n8             fcc  0.800000\n9            line  0.250000\n10             pc  0.650000\n11             pp  0.666667\n12            ppp  0.500000\n13             sc  1.000000\n14            sca  0.000000\n15           scah  0.666667\n16           scow  0.000000\n17        scparis  0.454545\n18            soc  0.166667\n19            sop  0.000000\n20           sopp  0.000000\n21         sotono  0.000000\n22        sotonoq  0.133333\n23             sp  0.000000\n24          stono  0.444444\n25           swpp  1.000000\n26             wc  0.100000\n27            wep  0.333333", 
                        "text/html": "<div>\n<table border=\"1\" class=\"dataframe\">\n  <thead>\n    <tr style=\"text-align: right;\">\n      <th></th>\n      <th>TicketCategory</th>\n      <th>Survived</th>\n    </tr>\n  </thead>\n  <tbody>\n    <tr>\n      <th>0</th>\n      <td>X</td>\n      <td>0.384266</td>\n    </tr>\n    <tr>\n      <th>1</th>\n      <td>a</td>\n      <td>0.071429</td>\n    </tr>\n    <tr>\n      <th>2</th>\n      <td>as</td>\n      <td>0.000000</td>\n    </tr>\n    <tr>\n      <th>3</th>\n      <td>c</td>\n      <td>0.400000</td>\n    </tr>\n    <tr>\n      <th>4</th>\n      <td>ca</td>\n      <td>0.341463</td>\n    </tr>\n    <tr>\n      <th>5</th>\n      <td>casoton</td>\n      <td>0.000000</td>\n    </tr>\n    <tr>\n      <th>6</th>\n      <td>fa</td>\n      <td>0.000000</td>\n    </tr>\n    <tr>\n      <th>7</th>\n      <td>fc</td>\n      <td>0.000000</td>\n    </tr>\n    <tr>\n      <th>8</th>\n      <td>fcc</td>\n      <td>0.800000</td>\n    </tr>\n    <tr>\n      <th>9</th>\n      <td>line</td>\n      <td>0.250000</td>\n    </tr>\n    <tr>\n      <th>10</th>\n      <td>pc</td>\n      <td>0.650000</td>\n    </tr>\n    <tr>\n      <th>11</th>\n      <td>pp</td>\n      <td>0.666667</td>\n    </tr>\n    <tr>\n      <th>12</th>\n      <td>ppp</td>\n      <td>0.500000</td>\n    </tr>\n    <tr>\n      <th>13</th>\n      <td>sc</td>\n      <td>1.000000</td>\n    </tr>\n    <tr>\n      <th>14</th>\n      <td>sca</td>\n      <td>0.000000</td>\n    </tr>\n    <tr>\n      <th>15</th>\n      <td>scah</td>\n      <td>0.666667</td>\n    </tr>\n    <tr>\n      <th>16</th>\n      <td>scow</td>\n      <td>0.000000</td>\n    </tr>\n    <tr>\n      <th>17</th>\n      <td>scparis</td>\n      <td>0.454545</td>\n    </tr>\n    <tr>\n      <th>18</th>\n      <td>soc</td>\n      <td>0.166667</td>\n    </tr>\n    <tr>\n      <th>19</th>\n      <td>sop</td>\n      <td>0.000000</td>\n    </tr>\n    <tr>\n      <th>20</th>\n      <td>sopp</td>\n      <td>0.000000</td>\n    </tr>\n    <tr>\n      <th>21</th>\n      <td>sotono</td>\n      <td>0.000000</td>\n    </tr>\n    <tr>\n      <th>22</th>\n      <td>sotonoq</td>\n      <td>0.133333</td>\n    </tr>\n    <tr>\n      <th>23</th>\n      <td>sp</td>\n      <td>0.000000</td>\n    </tr>\n    <tr>\n      <th>24</th>\n      <td>stono</td>\n      <td>0.444444</td>\n    </tr>\n    <tr>\n      <th>25</th>\n      <td>swpp</td>\n      <td>1.000000</td>\n    </tr>\n    <tr>\n      <th>26</th>\n      <td>wc</td>\n      <td>0.100000</td>\n    </tr>\n    <tr>\n      <th>27</th>\n      <td>wep</td>\n      <td>0.333333</td>\n    </tr>\n  </tbody>\n</table>\n</div>"
                    }, 
                    "metadata": {}
                }
            ], 
            "source": "#Will attempt to make sense of Ticket(if there is any correlation)\ndef delete_chars(ticket):\n    found = ticket.find(' ')\n    if found != -1:\n        return ticket[found+1:]\n    return ticket\n\ndef get_ticket(ticket):\n    ticket = ticket.replace(\".\" , \"\")\n    ticket = ticket.replace(\"/\" , \"\")\n    ticket_search = re.search('[a-zA-Z]+', ticket)\n    if ticket_search:\n        #print 'ticket:', ticket, ' | ticket_search:', ticket_search.group(0)\n        return ticket_search.group(0).lower()\n    return \"X\"\n    \nfor data in full_data:\n    #data['Ticket'] = data['Ticket'].apply(delete_chars)\n    data['TicketCategory'] = data['Ticket'].apply(get_ticket)\n    #data['Ticket'].\n    #data['TicketCategory'] = data['TicketCategory'].astype(float)\ndf_data[['TicketCategory', 'Survived']].groupby(['TicketCategory'], as_index=False).mean()\n\n#df_data.head()", 
            "execution_count": 403, 
            "cell_type": "code", 
            "metadata": {
                "collapsed": false
            }
        }, 
        {
            "outputs": [], 
            "source": "equiv = {'X': 0, 'pc':1, 'ca':2,'a':3,'stono':4,'sotonoq':5,'scparis':6,'wc':7,'soc':8,\n'c':9,'fcc':10,'line':11,'sopp':12,'wep':13,'pp':14,'scah':15,'sotono':16,'ppp':17,'swpp':18,\n'fc':19,'scow':20,'fa':21,'casoton':22,'as':23,'sop':24,'sca':25,'sp':26,'sc':27,'lp':28,'aq':29,'stonoq':30}\n\n#for data in full_data:\n#    data['TicketCategory'] = data['TicketCategory'].map(equiv).astype(int)\ndf_data['TicketCategory'] = df_data.TicketCategory.map(equiv)\ndf_test['TicketCategory'] = df_test.TicketCategory.map(equiv)\n#print df_test['TicketCategory'].isnull().sum()\n#print df_data['TicketCategory'].isnull().sum()   \n\n#df_data[['TicketCategory', 'Survived']].groupby(['TicketCategory'], as_index=False).mean()", 
            "execution_count": 404, 
            "cell_type": "code", 
            "metadata": {
                "collapsed": false
            }
        }, 
        {
            "outputs": [
                {
                    "text": "TRAIN\nTEST\n", 
                    "output_type": "stream", 
                    "name": "stdout"
                }
            ], 
            "source": "print \"TRAIN\"\n#for i in range(len(df_data.TicketCategory.values)):\n    #if df_data.TicketCategory.iloc[i] == '':\n    #    print \"i:\", i\n\nprint \"TEST\"\n#for i in range(len(df_test.TicketCategory.values)):\n    #if df_test.TicketCategory.iloc[i] == '':\n    #    print \"i:\", i\n\n#df_data.TicketCategory.value_counts()", 
            "execution_count": 405, 
            "cell_type": "code", 
            "metadata": {
                "collapsed": false
            }
        }, 
        {
            "outputs": [
                {
                    "output_type": "execute_result", 
                    "execution_count": 406, 
                    "data": {
                        "text/plain": "'LINE'"
                    }, 
                    "metadata": {}
                }
            ], 
            "source": "df_copy.Ticket.iloc[302]", 
            "execution_count": 406, 
            "cell_type": "code", 
            "metadata": {
                "collapsed": false
            }
        }, 
        {
            "outputs": [], 
            "source": "", 
            "execution_count": null, 
            "cell_type": "code", 
            "metadata": {
                "collapsed": true
            }
        }, 
        {
            "outputs": [], 
            "source": "", 
            "execution_count": null, 
            "cell_type": "code", 
            "metadata": {
                "collapsed": true
            }
        }, 
        {
            "outputs": [], 
            "source": "", 
            "execution_count": null, 
            "cell_type": "code", 
            "metadata": {
                "collapsed": true
            }
        }, 
        {
            "outputs": [
                {
                    "text": "        CategoryAge  Survived\n0  (0.0942, 15.336]  0.281250\n1  (15.336, 30.502]  0.416290\n2  (30.502, 45.668]  0.371681\n3  (45.668, 60.834]  0.357143\n4      (60.834, 76]  0.500000\n", 
                    "output_type": "stream", 
                    "name": "stdout"
                }
            ], 
            "source": "#Since there are a huge number of age missing, we will use random number generated using mean and std.\nfor data in full_data:\n    age_mean = data['Age'].mean()\n    age_std = data['Age'].std()\n    age_null = data['Age'].isnull().sum()\n\n    age_random = np.random.randint(age_mean - age_std, age_mean + age_std, size=age_null)\n\n    data['Age'][np.isnan(data['Age'])] = age_random.astype(int)\n    \ndf_data['CategoryAge'] = pd.cut(data['Age'], 5)\n\nprint (df_data[['CategoryAge', 'Survived']].groupby(['CategoryAge'], as_index=False).mean())", 
            "execution_count": 407, 
            "cell_type": "code", 
            "metadata": {
                "collapsed": false
            }
        }, 
        {
            "outputs": [], 
            "source": "#Will see if name has an impact on the outcome\ndef get_title(name):\n    title_search = re.search('([A-Za-z]+)\\.', name)\n    if title_search:\n        return title_search.group(1)\n    return \"\"", 
            "execution_count": 408, 
            "cell_type": "code", 
            "metadata": {
                "scrolled": true, 
                "collapsed": false
            }
        }, 
        {
            "outputs": [
                {
                    "text": "Sex       female  male\nTitle                 \nCapt           0     1\nCol            0     2\nCountess       1     0\nDon            0     1\nDr             1     6\nJonkheer       0     1\nLady           1     0\nMajor          0     2\nMaster         0    40\nMiss         182     0\nMlle           2     0\nMme            1     0\nMr             0   517\nMrs          125     0\nMs             1     0\nRev            0     6\nSir            0     1\n", 
                    "output_type": "stream", 
                    "name": "stdout"
                }
            ], 
            "source": "for data in full_data:\n    data['Title'] = data['Name'].apply(get_title)\n    \nprint pd.crosstab(df_data['Title'], df_data['Sex'])", 
            "execution_count": 409, 
            "cell_type": "code", 
            "metadata": {
                "collapsed": false
            }
        }, 
        {
            "outputs": [
                {
                    "text": "           Title  Survived\n0  Above Average  0.347826\n1         Master  0.575000\n2           Miss  0.702703\n3             Mr  0.156673\n4            Mrs  0.793651\n", 
                    "output_type": "stream", 
                    "name": "stdout"
                }
            ], 
            "source": "#We will put people's titles into meaningful categories\nfor data in full_data:\n    data['Title'] = data['Title'].replace(to_replace=['Capt', 'Col', 'Countess', 'Don', 'Dr', 'Jonkheer',\n                                                      'Lady', 'Major', 'Rev', 'Sir'], value='Above Average')\n    data['Title'].replace(to_replace='Mlle', value='Miss', inplace=True)\n    data['Title'].replace('Mme', 'Mrs', inplace=True)\n    data['Title'].replace('Ms', 'Miss', inplace=True)\n\nprint df_data[['Title', 'Survived']].groupby(['Title'], as_index=False).mean()", 
            "execution_count": 410, 
            "cell_type": "code", 
            "metadata": {
                "collapsed": false
            }
        }, 
        {
            "outputs": [
                {
                    "text": "   hasCabin  Survived\n0         0  0.299854\n1         1  0.666667\n", 
                    "output_type": "stream", 
                    "name": "stdout"
                }
            ], 
            "source": "#See if the passengers had a cabin or not\nfor data in full_data:\n    data['hasCabin'] = data['Cabin'].apply(lambda x: 1 if type(x)==str else 0)\n    \nprint df_data[['hasCabin', 'Survived']].groupby(['hasCabin'], as_index=False).mean()", 
            "execution_count": 411, 
            "cell_type": "code", 
            "metadata": {
                "collapsed": false
            }
        }, 
        {
            "outputs": [], 
            "source": "#df_copy.drop(['Name', 'SibSp', 'Parch', 'FamSize', 'Ticket', 'Cabin'], axis=1, inplace=True)\n#df_copy.head()", 
            "execution_count": 412, 
            "cell_type": "code", 
            "metadata": {
                "collapsed": false
            }
        }, 
        {
            "outputs": [
                {
                    "output_type": "execute_result", 
                    "execution_count": 413, 
                    "data": {
                        "text/plain": "   PassengerId  Pclass                                          Name     Sex  \\\n0          892       3                              Kelly, Mr. James    male   \n1          893       3              Wilkes, Mrs. James (Ellen Needs)  female   \n2          894       2                     Myles, Mr. Thomas Francis    male   \n3          895       3                              Wirz, Mr. Albert    male   \n4          896       3  Hirvonen, Mrs. Alexander (Helga E Lindqvist)  female   \n\n    Age  SibSp  Parch   Ticket     Fare Cabin Embarked  FamSize  FamSize<=4  \\\n0  34.5      0      0   330911   7.8292   NaN        Q        1           1   \n1  47.0      1      0   363272   7.0000   NaN        S        2           1   \n2  62.0      0      0   240276   9.6875   NaN        Q        1           1   \n3  27.0      0      0   315154   8.6625   NaN        S        1           1   \n4  22.0      1      1  3101298  12.2875   NaN        S        3           1   \n\n   Alone  TicketCategory Title  hasCabin  \n0      1               0    Mr         0  \n1      0               0   Mrs         0  \n2      1               0    Mr         0  \n3      1               0    Mr         0  \n4      0               0   Mrs         0  ", 
                        "text/html": "<div>\n<table border=\"1\" class=\"dataframe\">\n  <thead>\n    <tr style=\"text-align: right;\">\n      <th></th>\n      <th>PassengerId</th>\n      <th>Pclass</th>\n      <th>Name</th>\n      <th>Sex</th>\n      <th>Age</th>\n      <th>SibSp</th>\n      <th>Parch</th>\n      <th>Ticket</th>\n      <th>Fare</th>\n      <th>Cabin</th>\n      <th>Embarked</th>\n      <th>FamSize</th>\n      <th>FamSize&lt;=4</th>\n      <th>Alone</th>\n      <th>TicketCategory</th>\n      <th>Title</th>\n      <th>hasCabin</th>\n    </tr>\n  </thead>\n  <tbody>\n    <tr>\n      <th>0</th>\n      <td>892</td>\n      <td>3</td>\n      <td>Kelly, Mr. James</td>\n      <td>male</td>\n      <td>34.5</td>\n      <td>0</td>\n      <td>0</td>\n      <td>330911</td>\n      <td>7.8292</td>\n      <td>NaN</td>\n      <td>Q</td>\n      <td>1</td>\n      <td>1</td>\n      <td>1</td>\n      <td>0</td>\n      <td>Mr</td>\n      <td>0</td>\n    </tr>\n    <tr>\n      <th>1</th>\n      <td>893</td>\n      <td>3</td>\n      <td>Wilkes, Mrs. James (Ellen Needs)</td>\n      <td>female</td>\n      <td>47.0</td>\n      <td>1</td>\n      <td>0</td>\n      <td>363272</td>\n      <td>7.0000</td>\n      <td>NaN</td>\n      <td>S</td>\n      <td>2</td>\n      <td>1</td>\n      <td>0</td>\n      <td>0</td>\n      <td>Mrs</td>\n      <td>0</td>\n    </tr>\n    <tr>\n      <th>2</th>\n      <td>894</td>\n      <td>2</td>\n      <td>Myles, Mr. Thomas Francis</td>\n      <td>male</td>\n      <td>62.0</td>\n      <td>0</td>\n      <td>0</td>\n      <td>240276</td>\n      <td>9.6875</td>\n      <td>NaN</td>\n      <td>Q</td>\n      <td>1</td>\n      <td>1</td>\n      <td>1</td>\n      <td>0</td>\n      <td>Mr</td>\n      <td>0</td>\n    </tr>\n    <tr>\n      <th>3</th>\n      <td>895</td>\n      <td>3</td>\n      <td>Wirz, Mr. Albert</td>\n      <td>male</td>\n      <td>27.0</td>\n      <td>0</td>\n      <td>0</td>\n      <td>315154</td>\n      <td>8.6625</td>\n      <td>NaN</td>\n      <td>S</td>\n      <td>1</td>\n      <td>1</td>\n      <td>1</td>\n      <td>0</td>\n      <td>Mr</td>\n      <td>0</td>\n    </tr>\n    <tr>\n      <th>4</th>\n      <td>896</td>\n      <td>3</td>\n      <td>Hirvonen, Mrs. Alexander (Helga E Lindqvist)</td>\n      <td>female</td>\n      <td>22.0</td>\n      <td>1</td>\n      <td>1</td>\n      <td>3101298</td>\n      <td>12.2875</td>\n      <td>NaN</td>\n      <td>S</td>\n      <td>3</td>\n      <td>1</td>\n      <td>0</td>\n      <td>0</td>\n      <td>Mrs</td>\n      <td>0</td>\n    </tr>\n  </tbody>\n</table>\n</div>"
                    }, 
                    "metadata": {}
                }
            ], 
            "source": "df_test.isnull().sum()\n\n#dropping a few features for now\n#df_test.drop(['Cabin', 'CategoryAge', 'FamSize','SibSp', 'Parch', 'Ticket', 'Name'], axis=1, inplace=True)\ndf_test.head()", 
            "execution_count": 413, 
            "cell_type": "code", 
            "metadata": {
                "collapsed": false
            }
        }, 
        {
            "outputs": [
                {
                    "text": "   PassengerId  Survived  Pclass  Sex  Age  Fare  Embarked  FamSize<=4  Alone  \\\n0            1         0       3    1    1     0         1           1      0   \n1            2         1       1    0    2     3         2           1      0   \n2            3         1       3    0    1     1         1           1      1   \n3            4         1       1    0    2     3         1           1      0   \n4            5         0       3    1    2     1         1           1      1   \n5            6         0       3    1    2     1         0           1      1   \n6            7         0       1    1    3     3         1           1      1   \n7            8         0       3    1    0     2         1           0      0   \n8            9         1       3    0    1     1         1           1      0   \n9           10         1       2    0    0     2         2           1      0   \n\n   TicketCategory  Title  hasCabin  \n0               3      1         0  \n1               1      2         1  \n2               4      3         0  \n3               0      2         1  \n4               0      1         0  \n5               0      1         0  \n6               0      1         1  \n7               0      4         0  \n8               0      2         0  \n9               0      2         0  \n\nPassengerId       0\nPclass            0\nSex               0\nAge               0\nFare              0\nEmbarked          0\nFamSize<=4        0\nAlone             0\nTicketCategory    0\nTitle             0\nhasCabin          0\ndtype: int64\n", 
                    "output_type": "stream", 
                    "name": "stdout"
                }
            ], 
            "source": "#We will be using map() method in order to convert everything into numerical value so that we can get a classifier score\nfor data in full_data:\n    \n    #Mapping Embarked\n    data['Embarked'] = data['Embarked'].map({'Q': 0, 'S': 1, 'C': 2}).astype(int)\n    \n    #Mapping Sex\n    data['Sex'] = data['Sex'].map({'male': 1, 'female': 0}).astype(int)\n    \n    #Mapping Age(used cut method)\n    data.loc[data['Age'] <= 16 , 'Age'] = 0\n    data.loc[(data['Age'] > 16) & (data['Age'] <=32), 'Age'] = 1\n    data.loc[(data['Age'] > 32) & (data['Age'] <=48), 'Age'] = 2\n    data.loc[(data['Age'] > 48) & (data['Age'] <=64), 'Age'] = 3\n    data.loc[(data['Age'] > 64), 'Age'] = 4\n    \n    #Mapping Fare(used qcut method)\n    data.loc[data['Fare'] <= 7.91, 'Fare'] = 0\n    data.loc[(data['Fare'] > 7.91) & (data['Fare'] < 14.454) , 'Fare'] = 1\n    data.loc[(data['Fare'] > 14.454) & (data['Fare'] < 31) , 'Fare'] = 2\n    data.loc[(data['Fare'] > 31), 'Fare'] = 3\n    \n    #Mapping Title to values\n    data['Title'] = data['Title'].map({'Above Average': 0, 'Mr': 1, 'Mrs': 2, 'Miss': 3, 'Master': 4})\n    #There is 1 missing title in df_test dataset\n    data['Title'].fillna(0, inplace=True)\n    \n#print df_data.columns.values\ndrop_features = ['Name', 'SibSp', 'Parch', 'Ticket', 'Cabin', 'FamSize']\ndf_data.drop(drop_features, axis=1, inplace=True)\ndf_data.drop(['CategoryFare', 'CategoryAge'], axis=1, inplace=True)\ndf_test.drop(drop_features, axis=1, inplace=True)\n\nprint df_data.head(10)\nprint '\\n', df_test.isnull().sum()", 
            "execution_count": 414, 
            "cell_type": "code", 
            "metadata": {
                "collapsed": false
            }
        }, 
        {
            "outputs": [
                {
                    "output_type": "execute_result", 
                    "execution_count": 415, 
                    "data": {
                        "text/plain": "PassengerId       0\nSurvived          0\nPclass            0\nSex               0\nAge               0\nFare              0\nEmbarked          0\nFamSize<=4        0\nAlone             0\nTicketCategory    0\nTitle             0\nhasCabin          0\ndtype: int64"
                    }, 
                    "metadata": {}
                }
            ], 
            "source": "df_data.isnull().sum()", 
            "execution_count": 415, 
            "cell_type": "code", 
            "metadata": {
                "collapsed": false
            }
        }, 
        {
            "outputs": [], 
            "source": "features = ['Pclass', 'Sex', 'Age', 'Alone', 'Fare', 'Embarked', 'Title', 'hasCabin', 'TicketCategory'] \nX_train = df_data[features]\nY_train = df_data['Survived']\nX_test = df_test[features]\n\nfrom sklearn.ensemble import RandomForestClassifier\n  \ncl = RandomForestClassifier(n_estimators=1000, max_depth=None, min_samples_split=2, random_state=0)\n\ncl.fit(X_train, Y_train)\nY_pred = cl.predict(X_test)\n\n#testing2 = DecisionTreeClassifier()\n#testing2.fit(X_train, Y_train)\n#Y_pred = testing2.predict(X_test)\n#testing1 = GradientBoostingClassifier()\n#testing1.fit(X_train, Y_train)\n#Y_pred = testing1.predict(X_test)", 
            "execution_count": 416, 
            "cell_type": "code", 
            "metadata": {
                "collapsed": false
            }
        }, 
        {
            "outputs": [
                {
                    "text": "RandomForestClassifier: 0.798206278027\n", 
                    "output_type": "stream", 
                    "name": "stdout"
                }, 
                {
                    "output_type": "execute_result", 
                    "execution_count": 417, 
                    "data": {
                        "text/plain": "<matplotlib.text.Text at 0x7f296bc1c8d0>"
                    }, 
                    "metadata": {}
                }, 
                {
                    "metadata": {}, 
                    "data": {
                        "text/plain": "<matplotlib.figure.Figure at 0x7f2978391510>", 
                        "image/png": "[encoded data removed]"
                    }, 
                    "output_type": "display_data"
                }
            ], 
            "source": "x_train, x_test, y_train, y_test = train_test_split(X_train, Y_train)\n\nc2 = RandomForestClassifier(n_estimators=1000, max_depth=None, min_samples_split=2, random_state=4)\nc2.fit(x_train,y_train)\nprint 'RandomForestClassifier:', metrics.accuracy_score(c2.predict(x_test), y_test)\n\nk_range = range(1,26)\nscores = []\n\nfor k in k_range:\n    knn = KNeighborsClassifier(n_neighbors=k)\n    knn.fit(x_train, y_train)\n    k_pred = knn.predict(x_test)\n    scores.append(metrics.accuracy_score(k_pred, y_test))\n    \n#Visualize by plotting\nplt.plot(k_range, scores)\nplt.xlabel('Value of K for KNN')\nplt.ylabel(\"Accuracy Score\")\n#k=5 seems like it's best", 
            "execution_count": 417, 
            "cell_type": "code", 
            "metadata": {
                "collapsed": false
            }
        }, 
        {
            "outputs": [
                {
                    "text": "0.748878923767\n", 
                    "output_type": "stream", 
                    "name": "stdout"
                }
            ], 
            "source": "knn = KNeighborsClassifier(n_neighbors=5)\nknn.fit(x_train,y_train)\naassd = knn.predict(x_test)\nprint metrics.accuracy_score(aassd, y_test)", 
            "execution_count": 418, 
            "cell_type": "code", 
            "metadata": {
                "collapsed": false
            }
        }, 
        {
            "outputs": [
                {
                    "text": "0.820627802691\n0.838565022422\n", 
                    "output_type": "stream", 
                    "name": "stdout"
                }
            ], 
            "source": "svc = SVC(probability=True)\nsvc.fit(x_train, y_train)\nfdsa = svc.predict(x_test)\nprint metrics.accuracy_score(fdsa, y_test)\n\ngrad = GradientBoostingClassifier()\ngrad.fit(x_train, y_train)\nqwer = grad.predict(x_test)\nprint metrics.accuracy_score(qwer, y_test)\n", 
            "execution_count": 419, 
            "cell_type": "code", 
            "metadata": {
                "collapsed": false
            }
        }, 
        {
            "outputs": [], 
            "source": "def put_file(credentials, local_file_name):  \n    \"\"\"This functions returns a StringIO object containing\n    the file content from Bluemix Object Storage V3.\"\"\"\n    f = open(local_file_name,'r')\n    my_data = f.read()\n    url1 = ''.join(['https://identity.open.softlayer.com', '/v3/auth/tokens'])\n    data = {'auth': {'identity': {'methods': ['password'],\n            'password': {'user': {'name': credentials['username'],'domain': {'id': credentials['domain_id']},\n            'password': credentials['password']}}}}}\n    headers1 = {'Content-Type': 'application/json'}\n    resp1 = requests.post(url=url1, data=json.dumps(data), headers=headers1)\n    resp1_body = resp1.json()\n    for e1 in resp1_body['token']['catalog']:\n        if(e1['type']=='object-store'):\n            for e2 in e1['endpoints']:\n                        if(e2['interface']=='public'and e2['region']=='dallas'):\n                            url2 = ''.join([e2['url'],'/', credentials['container'], '/', local_file_name])\n    s_subject_token = resp1.headers['x-subject-token']\n    headers2 = {'X-Auth-Token': s_subject_token, 'accept': 'application/json'}\n    resp2 = requests.put(url=url2, headers=headers2, data = my_data )\n    print resp2", 
            "execution_count": 420, 
            "cell_type": "code", 
            "metadata": {
                "collapsed": true
            }
        }, 
        {
            "outputs": [], 
            "source": "# The code was removed by DSX for sharing.", 
            "execution_count": 421, 
            "cell_type": "code", 
            "metadata": {
                "collapsed": true
            }
        }, 
        {
            "outputs": [
                {
                    "text": "   PassengerId  Survived\n0          892         0\n1          893         0\n2          894         0\n3          895         0\n4          896         1\n<Response [201]>\nDone!\n", 
                    "output_type": "stream", 
                    "name": "stdout"
                }
            ], 
            "source": "PId = range(892,1310)\nans = pd.DataFrame({'PassengerId':PId, 'Survived':Y_pred})\nprint ans.head()\nans.to_csv('minho_ans.csv', index=False)\nput_file(credentials_1, 'minho_ans.csv')\nprint 'Done!'", 
            "execution_count": 422, 
            "cell_type": "code", 
            "metadata": {
                "collapsed": false
            }
        }, 
        {
            "outputs": [], 
            "source": "", 
            "execution_count": null, 
            "cell_type": "code", 
            "metadata": {
                "collapsed": true
            }
        }
    ], 
    "nbformat_minor": 0
}